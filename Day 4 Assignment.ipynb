{
 "cells": [
  {
   "cell_type": "markdown",
   "metadata": {},
   "source": [
    "Q1)\n",
    "Research on whether addition, subtraction, multiplication, division, floor division and modulo\n",
    "operations be performed on complex numbers. Based on your study, implement a Python\n",
    "program to demonstrate these operations."
   ]
  },
  {
   "cell_type": "code",
   "execution_count": 1,
   "metadata": {},
   "outputs": [
    {
     "name": "stdout",
     "output_type": "stream",
     "text": [
      "Addition of 2 complex no.s is:  (22-4j)\n",
      "Subtraction of 2 complex no.s is:  (-8+14j)\n",
      "Multiplication of 2 complex no.s is:  (150+12j)\n",
      "Division of 2 complex no.s is:  (0.19607843137254904+0.45098039215686275j)\n"
     ]
    }
   ],
   "source": [
    "comp_no1 = 7 + 5j\n",
    "comp_no2 = 15 - 9j\n",
    "print(\"Addition of 2 complex no.s is: \",comp_no1 + comp_no2)\n",
    "print(\"Subtraction of 2 complex no.s is: \",comp_no1 - comp_no2)\n",
    "print(\"Multiplication of 2 complex no.s is: \",comp_no1 * comp_no2)\n",
    "print(\"Division of 2 complex no.s is: \",comp_no1 / comp_no2)"
   ]
  },
  {
   "cell_type": "code",
   "execution_count": 2,
   "metadata": {},
   "outputs": [
    {
     "name": "stdout",
     "output_type": "stream",
     "text": [
      "modulo of polar complex no. is: (11.661903789690601, 1.0303768265243125)\n"
     ]
    }
   ],
   "source": [
    "import cmath\n",
    "import math\n",
    "x = 6.0\n",
    "y = 10.0\n",
    "z = complex(x,y);\n",
    "w = cmath.polar(z)\n",
    "print(\"modulo of polar complex no. is: \",end=\"\")\n",
    "print(w)"
   ]
  },
  {
   "cell_type": "markdown",
   "metadata": {},
   "source": [
    "In python floor division cannot be performed on complex numbers as it is not possible to find the largest or smallest of a given complex number. However modulo can be performed by using polar() function by importing \"cmath\" function."
   ]
  },
  {
   "cell_type": "markdown",
   "metadata": {},
   "source": [
    "Q2) Research on range() functions and its parameters. Create a markdown cell and write in your own\n",
    "words (no copy-paste from google please) what you understand about it. Implement a small\n",
    "program of your choice on the same."
   ]
  },
  {
   "cell_type": "markdown",
   "metadata": {},
   "source": [
    "Range() :Range function in python is used for returning sequences of a given number by the user by specifying the start value which is 0 by default, increments it by 1, and stop value before the given number specified by the user.\n",
    "\n",
    "Syntax :\n",
    "range(Start, stop, step)\n",
    "\n",
    "There are 3 steps for using the range() function in python:\n",
    "range(stop) : Takes only one argument\n",
    "range(start, stop) : Takes 2 arguments and user can specify the start and stop which any one of it can be optional.\n",
    "range(start, stop, step) : Takes 3 arguments and here step denotes the increment/decrement value that is to be performed."
   ]
  },
  {
   "cell_type": "code",
   "execution_count": 3,
   "metadata": {},
   "outputs": [
    {
     "name": "stdout",
     "output_type": "stream",
     "text": [
      "2 6 10 14 18 22 26 30 34 38 \n"
     ]
    }
   ],
   "source": [
    "for x in range(2, 40, 4):\n",
    "    print(x, end = \" \")\n",
    "print()"
   ]
  },
  {
   "cell_type": "markdown",
   "metadata": {},
   "source": [
    "Q3) Consider two numbers. Perform their subtraction and if the result of subtraction is greater than\n",
    "25, print their multiplication result else print their division result."
   ]
  },
  {
   "cell_type": "code",
   "execution_count": 4,
   "metadata": {},
   "outputs": [
    {
     "name": "stdout",
     "output_type": "stream",
     "text": [
      "Enter 1st no.: 35\n",
      "Enter 2nd no.: 20\n",
      "result of subtraction is:  15\n",
      "Division is : 1.0\n"
     ]
    }
   ],
   "source": [
    "n1 = int(input(\"Enter 1st no.: \"))\n",
    "n2 = int(input(\"Enter 2nd no.: \"))\n",
    "result = n1 - n2\n",
    "print(\"result of subtraction is: \",result)\n",
    "if result > 25:\n",
    "    print(\"Mul is: \", result*result)\n",
    "else:\n",
    "    print(\"Division is :\", result/result)\n",
    "    \n"
   ]
  },
  {
   "cell_type": "markdown",
   "metadata": {},
   "source": [
    "Q4) Consider a list of 10 elements of integer values. If the number in the list is divisible by 2, print the\n",
    "result as \"square of that number minus 2\"."
   ]
  },
  {
   "cell_type": "code",
   "execution_count": 5,
   "metadata": {},
   "outputs": [
    {
     "name": "stdout",
     "output_type": "stream",
     "text": [
      "2\n",
      "14\n",
      "34\n",
      "62\n",
      "98\n"
     ]
    }
   ],
   "source": [
    "x = [1,2,3,4,5,6,7,8,9,10]\n",
    "for i in x:\n",
    "    if(i % 2 == 0):\n",
    "        print(i * i -2)"
   ]
  },
  {
   "cell_type": "markdown",
   "metadata": {},
   "source": [
    "Q5) Consider a list of 10 elements. Print all the elements in the list which are greater than 7 when that\n",
    "number is divided 2."
   ]
  },
  {
   "cell_type": "code",
   "execution_count": 9,
   "metadata": {},
   "outputs": [
    {
     "name": "stdout",
     "output_type": "stream",
     "text": [
      "false\n"
     ]
    }
   ],
   "source": [
    "x = [5,10,14,20,21,25,28]\n",
    "n = 14\n",
    "if((n/2) > 7):\n",
    "    print(\"true\")\n",
    "else:\n",
    "    print(\"false\")"
   ]
  },
  {
   "cell_type": "code",
   "execution_count": null,
   "metadata": {},
   "outputs": [],
   "source": []
  }
 ],
 "metadata": {
  "kernelspec": {
   "display_name": "Python 3",
   "language": "python",
   "name": "python3"
  },
  "language_info": {
   "codemirror_mode": {
    "name": "ipython",
    "version": 3
   },
   "file_extension": ".py",
   "mimetype": "text/x-python",
   "name": "python",
   "nbconvert_exporter": "python",
   "pygments_lexer": "ipython3",
   "version": "3.7.6"
  }
 },
 "nbformat": 4,
 "nbformat_minor": 4
}
