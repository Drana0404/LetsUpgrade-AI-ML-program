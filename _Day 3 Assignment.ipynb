{
 "cells": [
  {
   "cell_type": "markdown",
   "metadata": {},
   "source": [
    "Q1) Program to subtract two complex numbers in Python.\n"
   ]
  },
  {
   "cell_type": "code",
   "execution_count": 1,
   "metadata": {},
   "outputs": [
    {
     "name": "stdout",
     "output_type": "stream",
     "text": [
      "Difference between 2 complex numbers is: (3-5j)\n"
     ]
    }
   ],
   "source": [
    "compNo1 = 8 + 2j\n",
    "compNo2 = 5 + 7j\n",
    "print(\"Difference between 2 complex numbers is:\", compNo1 - compNo2)"
   ]
  },
  {
   "cell_type": "markdown",
   "metadata": {},
   "source": [
    "Q2) Program to find the fourth root of a number.\n"
   ]
  },
  {
   "cell_type": "code",
   "execution_count": 3,
   "metadata": {},
   "outputs": [
    {
     "name": "stdout",
     "output_type": "stream",
     "text": [
      "Enter number: 16\n",
      "Enter the root number: 2\n",
      "4.0\n"
     ]
    }
   ],
   "source": [
    "def nth_Root (x, n):\n",
    "    root = x ** (1/n)\n",
    "    return root\n",
    "x = int(input(\"Enter number: \"))\n",
    "n = int(input(\"Enter the root number: \"))\n",
    "print(nth_Root(x, n))"
   ]
  },
  {
   "cell_type": "markdown",
   "metadata": {},
   "source": [
    "Q3)Program to swap two numbers in Python with the help of a temporary variable"
   ]
  },
  {
   "cell_type": "code",
   "execution_count": 4,
   "metadata": {},
   "outputs": [
    {
     "name": "stdout",
     "output_type": "stream",
     "text": [
      "Enter first number: 20\n",
      "Enter second number: 35\n",
      "value of a after swapping:  35\n",
      "Value of b after swapping:  20\n"
     ]
    }
   ],
   "source": [
    "a = int(input(\"Enter first number: \"))\n",
    "b = int(input(\"Enter second number: \"))\n",
    "temp = a\n",
    "a = b\n",
    "b = temp\n",
    "print(\"value of a after swapping: \",a)\n",
    "print(\"Value of b after swapping: \",b)"
   ]
  },
  {
   "cell_type": "markdown",
   "metadata": {},
   "source": [
    "Q4) Program to swap two numbers in Python without using a temporary variable."
   ]
  },
  {
   "cell_type": "code",
   "execution_count": 5,
   "metadata": {},
   "outputs": [
    {
     "name": "stdout",
     "output_type": "stream",
     "text": [
      "Enter first number: 19\n",
      "Enter second number: 76\n",
      "value of a after swapping:  76\n",
      "Value of b after swapping:  19\n"
     ]
    }
   ],
   "source": [
    "a = input(\"Enter first number: \")\n",
    "b = input(\"Enter second number: \")\n",
    "a, b = b, a\n",
    "print(\"value of a after swapping: \",a)\n",
    "print(\"Value of b after swapping: \",b)"
   ]
  },
  {
   "cell_type": "markdown",
   "metadata": {},
   "source": [
    "Q5) Program to convert fahrenheit to kelvin and celsius both."
   ]
  },
  {
   "cell_type": "code",
   "execution_count": 6,
   "metadata": {},
   "outputs": [
    {
     "name": "stdout",
     "output_type": "stream",
     "text": [
      "Temperature in Kelvin(K) = 311.278\n"
     ]
    }
   ],
   "source": [
    "def Fahrenheit_to_Kelvin(F): \n",
    "    return 273.5 + ((F - 32.0) * (5.0/9.0))\n",
    "F = 100\n",
    "print(\"Temperature in Kelvin(K) = {:.3f}\" .format(Fahrenheit_to_Kelvin(F)))"
   ]
  },
  {
   "cell_type": "code",
   "execution_count": 7,
   "metadata": {},
   "outputs": [
    {
     "name": "stdout",
     "output_type": "stream",
     "text": [
      "Temperature in Celcius(C) = 65.556\n"
     ]
    }
   ],
   "source": [
    "def Fahrenheit_to_Celcius(F):\n",
    "    return (F - 32) * (5.0 / 9.0)\n",
    "F = 150\n",
    "print(\"Temperature in Celcius(C) = {:.3f}\".format(Fahrenheit_to_Celcius(F)))"
   ]
  },
  {
   "cell_type": "markdown",
   "metadata": {},
   "source": [
    "Q6) Program to demonstrate all the available data types in Python. Hint: Use type() function."
   ]
  },
  {
   "cell_type": "code",
   "execution_count": 8,
   "metadata": {},
   "outputs": [
    {
     "name": "stdout",
     "output_type": "stream",
     "text": [
      "the given data is of type:  <class 'int'>\n",
      "the given data is of type:  <class 'float'>\n",
      "the given data is of type:  <class 'complex'>\n",
      "<class 'bool'>\n",
      "<class 'str'>\n",
      "<class 'list'>\n",
      "Python\n",
      "C\n",
      "\n",
      " Fields in computer science and to explore different real-life scenarios: \n",
      "('Data Science', 'Machine Learning', 'Artificial Intelligence', 'Deep Learning')\n",
      "\n",
      " Examples of cars using set data type: \n",
      "('Mercedes-benz', 'Lamborghini', 'BMW', 'Hyundai', 'Honda')\n",
      "Example of dictionary in python: \n",
      "{1: 'Divyaraj', 2: 'Rana', 3: 'CSE', 4: 'Python coder'}\n"
     ]
    }
   ],
   "source": [
    "x = 10\n",
    "print(\"the given data is of type: \", type(x)) \n",
    "\n",
    "y = 2.35\n",
    "print(\"the given data is of type: \", type(y)) \n",
    "\n",
    "z = 10 + 5j\n",
    "print(\"the given data is of type: \", type(z)) \n",
    "\n",
    "print(type(False))\n",
    "\n",
    "str1 = \"Welcome to the world of Python Programming\"\n",
    "print(type(str1))\n",
    "\n",
    "list1 = [\"Python\", \"Java\", \"C++\", \"C\", \"Ruby\", \"Pearl\"]\n",
    "print(type(list1))\n",
    "print(list1[0])\n",
    "print(list1[-3])\n",
    "\n",
    "tuple_1 = (\"Data Science\", \"Machine Learning\", \"Artificial Intelligence\", \"Deep Learning\")\n",
    "print(\"\\n Fields in computer science and to explore different real-life scenarios: \")\n",
    "print(tuple_1)\n",
    "\n",
    "Cars_set = (\"Mercedes-benz\", \"Lamborghini\", \"BMW\", \"Hyundai\", \"Honda\")\n",
    "print(\"\\n Examples of cars using set data type: \")\n",
    "print(Cars_set)\n",
    "\n",
    "dict_1 = {1: 'Divyaraj', 2: 'Rana', 3: 'CSE', 4: 'Python coder'}\n",
    "print(\"Example of dictionary in python: \")\n",
    "print(dict_1)"
   ]
  },
  {
   "cell_type": "markdown",
   "metadata": {},
   "source": [
    "\n",
    "Q7) Create a Markdown cell in jupyter and list the steps discussed in the session by Dr. Darshan Ingle sir to create Github profile and upload Githubs Assignment link."
   ]
  },
  {
   "cell_type": "markdown",
   "metadata": {},
   "source": [
    "Step 1: Create github account by signing up.\n",
    "\n",
    "Step 2: Create your new profile.\n",
    "\n",
    "Step 3: Create new repository with name LetsUpgrade-AI-ML.\n",
    "\n",
    "Step 4: Upload/drag and drop jupyter/colab files in .ipynb into LetsUpgrade-AI-ML repository.\n",
    "\n",
    "Step 5: Copy paste the link github repository https://github.com/Drana0404/LetsUpgrade-AI-ML into assignment submission link provided.\n",
    "\n",
    "Step 6: Before submitting the assignment validate the github URL if it is accessible in incognito.\n",
    "\n",
    "Step 7: If it is accessible then fill the rest of the details and submit/upload the assignment and evaluate the same details in your gmail account. "
   ]
  },
  {
   "cell_type": "code",
   "execution_count": null,
   "metadata": {},
   "outputs": [],
   "source": []
  }
 ],
 "metadata": {
  "kernelspec": {
   "display_name": "Python 3",
   "language": "python",
   "name": "python3"
  },
  "language_info": {
   "codemirror_mode": {
    "name": "ipython",
    "version": 3
   },
   "file_extension": ".py",
   "mimetype": "text/x-python",
   "name": "python",
   "nbconvert_exporter": "python",
   "pygments_lexer": "ipython3",
   "version": "3.7.6"
  }
 },
 "nbformat": 4,
 "nbformat_minor": 4
}
