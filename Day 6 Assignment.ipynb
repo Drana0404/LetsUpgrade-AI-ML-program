{
 "cells": [
  {
   "cell_type": "markdown",
   "metadata": {},
   "source": [
    "# Question 1:\n",
    "\n",
    "Assuming that we have some email addresses in the \"username@companyname.com\" format, please write program\n",
    "to print the company name of a given email address. Both user names and company names are composed of letters\n",
    "only.\n",
    "\n",
    "Input Format:\n",
    "The first line of the input contains an email address.\n",
    "\n",
    "Output Format:\n",
    "Print the company name in single line.\n",
    "\n",
    "Example:\n",
    "Input:\n",
    "john@google.com\n",
    "\n",
    "Output:\n",
    "google\n"
   ]
  },
  {
   "cell_type": "code",
   "execution_count": 1,
   "metadata": {},
   "outputs": [
    {
     "name": "stdout",
     "output_type": "stream",
     "text": [
      "Enter your email ID:divyraj5@gmail.com\n",
      "gmail"
     ]
    }
   ],
   "source": [
    "find_email = input(\"Enter your email ID:\")\n",
    "x = find_email.index(\"@\")\n",
    "print(find_email[x + 1 : len(find_email) - 4], end='')"
   ]
  },
  {
   "cell_type": "markdown",
   "metadata": {},
   "source": [
    "# Question 2:\n",
    "\n",
    "Write a program that accepts a comma-separated sequence of words as input and prints the words in a comma\n",
    "separated sequence after sorting them alphabetically.\n",
    "\n",
    "Input Format:\n",
    "The first line of input contains words separated by the comma.\n",
    "\n",
    "Output Format:\n",
    "Print the sorted words separated by the comma.\n",
    "\n",
    "Example:\n",
    "\n",
    "Input:\n",
    "without,hello,bag,world\n",
    "\n",
    "Output:\n",
    "bag,hello,without,world"
   ]
  },
  {
   "cell_type": "code",
   "execution_count": 2,
   "metadata": {},
   "outputs": [
    {
     "name": "stdout",
     "output_type": "stream",
     "text": [
      "Enter comma separated sequence of words: without,hello,bag,world\n",
      "bag,hello,without,world\n"
     ]
    }
   ],
   "source": [
    "items = input(\"Enter comma separated sequence of words: \")\n",
    "sort_words = [word for word in items.split(\",\")]\n",
    "print(\",\".join(sorted(list(set(sort_words)))))"
   ]
  },
  {
   "cell_type": "markdown",
   "metadata": {},
   "source": [
    "# Question 3:\n",
    "\n",
    "Create your own Jupyter Notebook for Sets."
   ]
  },
  {
   "cell_type": "markdown",
   "metadata": {},
   "source": [
    "# Sets:\n",
    "\n",
    "In python, sets is a data structure which is a collection of unordered and unindexed elements. Just like tuples, sets are immutable ie when the elements are assigned it cannot be changed. But sets itself can be mutable.\n",
    "\n",
    "There are 2 types of sets :\n",
    "\n",
    "1) set()\n",
    "2) frozenset()\n",
    "\n",
    "Following are few examples of set functions :"
   ]
  },
  {
   "cell_type": "markdown",
   "metadata": {},
   "source": [
    "# Add():\n",
    "\n",
    "In sets, add() function is used to add an element in a given set.\n",
    "\n",
    "Syntax : set_name.add()"
   ]
  },
  {
   "cell_type": "code",
   "execution_count": 6,
   "metadata": {},
   "outputs": [
    {
     "name": "stdout",
     "output_type": "stream",
     "text": [
      "{'Google', 'Amazon', 'Microsoft', 'Apple', 'Facebook'}\n"
     ]
    }
   ],
   "source": [
    "s1 = {\"Apple\", \"Facebook\", \"Amazon\", \"Google\"}\n",
    "s1.add(\"Microsoft\")\n",
    "print(s1)"
   ]
  },
  {
   "cell_type": "markdown",
   "metadata": {},
   "source": [
    "# Pop() :\n",
    "\n",
    "In sets, pop() will delete an element from a given unordered set.\n",
    "\n",
    "Syntax:\n",
    "set_name.pop()"
   ]
  },
  {
   "cell_type": "code",
   "execution_count": 9,
   "metadata": {},
   "outputs": [
    {
     "name": "stdout",
     "output_type": "stream",
     "text": [
      "{'Amazon', 'Microsoft', 'Apple', 'Facebook'}\n"
     ]
    }
   ],
   "source": [
    "set_2 = {\"Google\", \"Amazon\", \"Microsoft\", \"Apple\" ,\"Facebook\"}\n",
    "set_2.pop()\n",
    "print(set_2)"
   ]
  },
  {
   "cell_type": "markdown",
   "metadata": {},
   "source": [
    "# Union():\n",
    "\n",
    "In sets, union() method returns a set that contains all the elements from 2 or more sets and duplicate values are discarded.\n",
    "\n",
    "Syntax:\n",
    "\n",
    "set.union(set1, set2)"
   ]
  },
  {
   "cell_type": "code",
   "execution_count": 12,
   "metadata": {},
   "outputs": [
    {
     "name": "stdout",
     "output_type": "stream",
     "text": [
      "{35, 5, 40, 10, 45, 15, 20, 23, 55, 60, 30}\n"
     ]
    }
   ],
   "source": [
    "s_1 = {10,15,23,35,40,45,55}\n",
    "s_2 = {5,20,30,60}\n",
    "s3 = s_2.union(s_1)\n",
    "print(s3)"
   ]
  },
  {
   "cell_type": "markdown",
   "metadata": {},
   "source": [
    "# Intersection():\n",
    "\n",
    "In sets, intersection() method will return only those elements that are common in both the sets.\n",
    "\n",
    "Syntax:\n",
    "\n",
    "set.intersection(set1, set2,...)"
   ]
  },
  {
   "cell_type": "code",
   "execution_count": 13,
   "metadata": {},
   "outputs": [
    {
     "name": "stdout",
     "output_type": "stream",
     "text": [
      "{40, 10, 15}\n"
     ]
    }
   ],
   "source": [
    "s_1 = {10,15,23,35,40,45,55}\n",
    "s_2 = {5,10,15,20,40,30,60}\n",
    "s3 = s_2.intersection(s_1)\n",
    "print(s3)"
   ]
  },
  {
   "cell_type": "markdown",
   "metadata": {},
   "source": [
    "# Issuperset():\n",
    "\n",
    "The issuperset() method returns True if all items in the specified set exists in the original set, otherwise it retuns False.\n",
    "\n",
    "Syntax:\n",
    "\n",
    "set.issuperset(set)"
   ]
  },
  {
   "cell_type": "code",
   "execution_count": 14,
   "metadata": {},
   "outputs": [
    {
     "name": "stdout",
     "output_type": "stream",
     "text": [
      "True\n"
     ]
    }
   ],
   "source": [
    "a = {10, 20, 30, 35, 40 , 45, 50}\n",
    "b = {10, 20, 40}\n",
    "c = a.issuperset(b)\n",
    "print(c)"
   ]
  },
  {
   "cell_type": "markdown",
   "metadata": {},
   "source": [
    "# Question 4:\n",
    "\n",
    "Given a list of n-1 numbers ranging from 1 to n, your task is to find the missing number. There are no duplicates.\n",
    "\n",
    "Input Format:\n",
    "The first line contains n-1 numbers with each number separated by a space.\n",
    "\n",
    "Output Format:\n",
    "Print the missing number\n",
    "\n",
    "Example:\n",
    "\n",
    "Input:1 2 4 6 3 7 8\n",
    "\n",
    "Output:5\n",
    "\n"
   ]
  },
  {
   "cell_type": "code",
   "execution_count": 16,
   "metadata": {},
   "outputs": [
    {
     "name": "stdout",
     "output_type": "stream",
     "text": [
      "[3, 5, 8, 11, 12]\n"
     ]
    }
   ],
   "source": [
    "def find_missing(lst): \n",
    "    return [x for x in range(lst[0], lst[-1]+1) if x not in lst] \n",
    "lst = [1, 2, 4, 6, 7, 9, 10, 13] \n",
    "print(find_missing(lst)) \n",
    "    \n",
    "    "
   ]
  },
  {
   "cell_type": "markdown",
   "metadata": {},
   "source": [
    "# Question 5:\n",
    "\n",
    "With a given list L, write a program to print this list L after removing all duplicate values with original order reserved.\n",
    "\n",
    "Example:\n",
    "\n",
    "If the input list is\n",
    "\n",
    "12 24 35 24 88 120 155 88 120 155\n",
    "\n",
    "Then the output should be\n",
    "\n",
    "12 24 35 88 120 155\n",
    "\n",
    "Explanation:\n",
    "\n",
    "Third, seventh and ninth element of the list L has been removed because it was already present.\n",
    "\n",
    "Input Format:\n",
    "\n",
    "In one line take the elements of the list L with each element separated by a space.\n",
    "\n",
    "Output Format:\n",
    "\n",
    "Print the elements of the modified list in one line with each element separated by a space.\n",
    "\n",
    "Example:\n",
    "Input: 12 24 35 24\n",
    "\n",
    "Output : 12 24 35"
   ]
  },
  {
   "cell_type": "code",
   "execution_count": 18,
   "metadata": {},
   "outputs": [
    {
     "name": "stdout",
     "output_type": "stream",
     "text": [
      "Original list in reserved order: [12, 24, 35, 24, 88, 120, 155, 88, 120, 155]\n",
      "After removing duplicate values rem_list is: [12, 24, 35, 88, 120, 155]\n"
     ]
    }
   ],
   "source": [
    "rem_list = [12, 24, 35, 24, 88, 120, 155, 88, 120, 155]\n",
    "print(\"Original list in reserved order: \" +str(rem_list))\n",
    "r = []\n",
    "for i in rem_list:\n",
    "    if i not in r:\n",
    "        r.append(i)\n",
    "print(\"After removing duplicate values rem_list is: \" +str(r))"
   ]
  }
 ],
 "metadata": {
  "kernelspec": {
   "display_name": "Python 3",
   "language": "python",
   "name": "python3"
  },
  "language_info": {
   "codemirror_mode": {
    "name": "ipython",
    "version": 3
   },
   "file_extension": ".py",
   "mimetype": "text/x-python",
   "name": "python",
   "nbconvert_exporter": "python",
   "pygments_lexer": "ipython3",
   "version": "3.7.6"
  }
 },
 "nbformat": 4,
 "nbformat_minor": 4
}
