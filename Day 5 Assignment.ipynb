{
 "cells": [
  {
   "cell_type": "markdown",
   "metadata": {},
   "source": [
    "Q1) Write a Python program to find the first 20 non-even prime natural numbers."
   ]
  },
  {
   "cell_type": "code",
   "execution_count": 1,
   "metadata": {},
   "outputs": [
    {
     "name": "stdout",
     "output_type": "stream",
     "text": [
      "3 5 7 11 13 17 19 23 29 31 37 41 43 47 53 59 61 67 71 73 79 83 89 97 101 "
     ]
    }
   ],
   "source": [
    "for value in range(3, 103):\n",
    "    if value > 1:\n",
    "        for i in range(2, value // 2 + 2):\n",
    "            if(value % i) == 0:\n",
    "                break\n",
    "            else:\n",
    "                if i == value // 2 + 1:\n",
    "                    print(value, end = \" \")"
   ]
  },
  {
   "cell_type": "markdown",
   "metadata": {},
   "source": [
    "Q2) Write a Python program to implement 15 functions of string."
   ]
  },
  {
   "cell_type": "code",
   "execution_count": 5,
   "metadata": {},
   "outputs": [
    {
     "name": "stdout",
     "output_type": "stream",
     "text": [
      "False\n",
      "False\n",
      "       banana       \n",
      "2\n",
      "mY nAME IS dIVYARAJ rANA\n",
      "My Name is Divyaraj Rana\n",
      "Hello\n",
      "hello\n",
      "i'm a letsupgrader\n",
      "I'm a LetsUpgrader\n",
      "0\n",
      "True\n",
      "True\n",
      "John#Peter#Vicky\n",
      "True\n",
      "['apple', 'banana', 'cherry']\n",
      "['welcome', 'to', 'the', 'jungle']\n",
      "True\n"
     ]
    }
   ],
   "source": [
    "str1 = \"My name is Divyaraj\"\n",
    "print(str1.islower())\n",
    "\n",
    "str2 = \"Python Program\"\n",
    "print(str2.isupper())\n",
    "\n",
    "txt_D = \"banana\"\n",
    "a = txt_D.center(20)\n",
    "print(a)\n",
    "\n",
    "txt_Dr = \"I love apples, apple are my favorite fruit\"\n",
    "b = txt_Dr.count(\"apple\")\n",
    "print(b)\n",
    "\n",
    "s5 = \"My Name is Divyaraj Rana\"\n",
    "print(s5.swapcase())\n",
    "print(s5)\n",
    "\n",
    "s6 = \"hello\"\n",
    "print(s6.capitalize())\n",
    "print(s6)\n",
    "\n",
    "s7 = \"I'm a LetsUpgrader\"\n",
    "print(s7.lower())\n",
    "print(s7)\n",
    "\n",
    "s8 = \"Welcome to letsUpgrade program\"\n",
    "x0 = s8.find(\"Welcome\")\n",
    "print(x0)\n",
    "\n",
    "text = \"Company12\"\n",
    "x = text.isalnum()\n",
    "print(x)\n",
    "\n",
    "s10 = \"565543\"\n",
    "x1 = s10.isnumeric()\n",
    "print(x1)\n",
    "\n",
    "myTuple = (\"John\", \"Peter\", \"Vicky\")\n",
    "x2 = \"#\".join(myTuple)\n",
    "print(x2)\n",
    "\n",
    "txt = \"Demo\"\n",
    "x3 = txt.isidentifier()\n",
    "print(x3)\n",
    "\n",
    "txt_1 = \"apple, banana, cherry\"\n",
    "x4 = txt_1.rsplit(\", \")\n",
    "print(x4)\n",
    "\n",
    "txt_2 = \"welcome to the jungle\"\n",
    "x5 = txt_2.split()\n",
    "print(x5)\n",
    "\n",
    "txt_3 = \"Python is fun.\"\n",
    "x6 = txt_3.rindex(\"fun\")\n",
    "print(x)"
   ]
  },
  {
   "cell_type": "markdown",
   "metadata": {},
   "source": [
    "Q3) Write a Python program to check if the given string is a Palindrome or Anagram or None of them. Display the message accordingly to the user."
   ]
  },
  {
   "cell_type": "code",
   "execution_count": 6,
   "metadata": {},
   "outputs": [
    {
     "name": "stdout",
     "output_type": "stream",
     "text": [
      "Enter string 1: mad\n",
      "Enter string 2: dam\n",
      "Entered string is anagram: \n"
     ]
    }
   ],
   "source": [
    "x = str(input(\"Enter string 1: \"))\n",
    "y = str(input(\"Enter string 2: \"))\n",
    "def pal_or_ana():\n",
    "    if x == x[:: -1]:\n",
    "        print(\"Entered string is palindrome: \")\n",
    "    elif sorted(x) == sorted(y):\n",
    "        print(\"Entered string is anagram: \")\n",
    "    else:\n",
    "        print(\"Neither palindrome or string: \")\n",
    "pal_or_ana()"
   ]
  },
  {
   "cell_type": "markdown",
   "metadata": {},
   "source": [
    "Q4) Write a Python's user defined function that removes all the additional characters from the string\n",
    "and converts it finally to lower case using built-in lower(). eg: If the string is \"Dr. Darshan Ingle\n",
    "@AI-ML Trainer\", then the output be \"drdarshaningleaimltrainer\"."
   ]
  },
  {
   "cell_type": "code",
   "execution_count": 7,
   "metadata": {},
   "outputs": [
    {
     "name": "stdout",
     "output_type": "stream",
     "text": [
      "the given string is:  Dr. Darshan Ingle @AI-ML Trainer\n",
      "After removing all special characters from given string is: \n",
      "New string formed:  drdarshaningleaimltrainer\n"
     ]
    }
   ],
   "source": [
    "def replaceCh(x):\n",
    "    remove = ['!', '#', '$', '@', '-', '.', '&', \" \", '^']\n",
    "    for i in remove:\n",
    "        x = x.replace(i, '')\n",
    "        x = x.lower()\n",
    "    print(\"After removing all special characters from given string is: \")\n",
    "    print(\"New string formed: \", x)\n",
    "\n",
    "str1 = 'Dr. Darshan Ingle @AI-ML Trainer'\n",
    "print(\"the given string is: \", str1)\n",
    "replaceCh(str1)"
   ]
  },
  {
   "cell_type": "code",
   "execution_count": null,
   "metadata": {},
   "outputs": [],
   "source": []
  }
 ],
 "metadata": {
  "kernelspec": {
   "display_name": "Python 3",
   "language": "python",
   "name": "python3"
  },
  "language_info": {
   "codemirror_mode": {
    "name": "ipython",
    "version": 3
   },
   "file_extension": ".py",
   "mimetype": "text/x-python",
   "name": "python",
   "nbconvert_exporter": "python",
   "pygments_lexer": "ipython3",
   "version": "3.7.6"
  }
 },
 "nbformat": 4,
 "nbformat_minor": 4
}
